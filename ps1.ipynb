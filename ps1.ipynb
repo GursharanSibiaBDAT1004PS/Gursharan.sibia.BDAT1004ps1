{
 "cells": [
  {
   "cell_type": "markdown",
   "id": "7fa288c9",
   "metadata": {},
   "source": [
    "# Question 1 C#\n",
    "\n",
    "What data type is each of the following?\n",
    "\n",
    "5\n",
    "5.0\n",
    "5 > 1\n",
    "'5'\n",
    "5 * 2\n",
    "'5' * 2\n",
    "'5' + '2'\n",
    "5 / 2\n",
    "5 % 2\n",
    "{5, 2, 1}\n",
    "5 == 3\n",
    "Pi (the number)\n",
    "\n"
   ]
  },
  {
   "cell_type": "code",
   "execution_count": 8,
   "id": "75e7f7ba",
   "metadata": {},
   "outputs": [],
   "source": [
    "using System;\n",
    "\n",
    "class Program\n",
    "{\n",
    "    static void Main()\n",
    "    \n",
    "    {\n",
    "        Console.WriteLine((5).GetType());             \n",
    "        Console.WriteLine((5.0).GetType());          \n",
    "        Console.WriteLine((5 > 1).GetType());         \n",
    "        Console.WriteLine(('5').GetType());           \n",
    "        Console.WriteLine((5 * 2).GetType());         \n",
    "        Console.WriteLine(('5' * 2).GetType());     \n",
    "        Console.WriteLine(('5' + '2').GetType());   \n",
    "        Console.WriteLine((5 / 2).GetType());         \n",
    "        Console.WriteLine((5 % 2).GetType());       \n",
    "        Console.WriteLine((new[] { 5, 2, 1 }).GetType());\n",
    "        Console.WriteLine((5 == 3).GetType());        \n",
    "        Console.WriteLine((Math.PI).GetType());       \n",
    "    }\n",
    "}\n"
   ]
  },
  {
   "cell_type": "markdown",
   "id": "ba81acb2",
   "metadata": {},
   "source": [
    "# Question 2 C#\n",
    "\n",
    "Write (and evaluate) C# expressions that answer these questions:\n",
    "a. How many letters are there in 'Supercalifragilisticexpialidocious'?\n",
    "\n",
    "b. Does 'Supercalifragilisticexpialidocious' contain 'ice' as a substring?\n",
    "\n",
    "c. Which of the following words is the longest: \n",
    "Supercalifragilisticexpialidocious, Honorificabilitudinitatibus, or \n",
    "Bababadalgharaghtakamminarronnkonn?\n",
    "\n",
    "d. Which composer comes first in the dictionary: 'Berlioz', 'Borodin', 'Brian', \n",
    "'Bartok', 'Bellini', 'Buxtehude', 'Bernstein'. Which one comes last?"
   ]
  },
  {
   "cell_type": "code",
   "execution_count": 9,
   "id": "67436e55",
   "metadata": {},
   "outputs": [
    {
     "name": "stdout",
     "output_type": "stream",
     "text": [
      "34\r\n"
     ]
    }
   ],
   "source": [
    "string word = \"Supercalifragilisticexpialidocious\";\n",
    "int letterCount = word.Length;\n",
    "Console.WriteLine(letterCount);"
   ]
  },
  {
   "cell_type": "code",
   "execution_count": 10,
   "id": "7b8ce754",
   "metadata": {},
   "outputs": [
    {
     "name": "stdout",
     "output_type": "stream",
     "text": [
      "True\r\n"
     ]
    }
   ],
   "source": [
    "string word = \"Supercalifragilisticexpialidocious\";\n",
    "bool containsIce = word.Contains(\"ice\");\n",
    "Console.WriteLine(containsIce);"
   ]
  },
  {
   "cell_type": "code",
   "execution_count": 11,
   "id": "3a1fdb8f",
   "metadata": {},
   "outputs": [
    {
     "name": "stdout",
     "output_type": "stream",
     "text": [
      "The longest word is: Bababadalgharaghtakamminarronnkonn\r\n"
     ]
    }
   ],
   "source": [
    "string word1 = \"Supercalifragilisticexpialidocious\";\n",
    "string word2 = \"Honorificabilitudinitatibus\";\n",
    "string word3 = \"Bababadalgharaghtakamminarronnkonn\";\n",
    "\n",
    "if (word1.Length > word2.Length && word1.Length > word3.Length)\n",
    "{\n",
    "    Console.WriteLine(\"The longest word is: \" + word1);\n",
    "}\n",
    "else if (word2.Length > word3.Length)\n",
    "{\n",
    "    Console.WriteLine(\"The longest word is: \" + word2);\n",
    "}\n",
    "else\n",
    "{\n",
    "    Console.WriteLine(\"The longest word is: \" + word3);\n",
    "}\n"
   ]
  },
  {
   "cell_type": "code",
   "execution_count": 12,
   "id": "99a7b21e",
   "metadata": {
    "scrolled": true
   },
   "outputs": [
    {
     "name": "stdout",
     "output_type": "stream",
     "text": [
      "First composer: Bartok\n",
      "Last composer: Buxtehude\n"
     ]
    }
   ],
   "source": [
    "string[] composers = { \"Berlioz\", \"Borodin\", \"Brian\", \"Bartok\", \"Bellini\", \"Buxtehude\", \"Bernstein\" };\n",
    "\n",
    "Array.Sort(composers);\n",
    "\n",
    "string firstComposer = composers[0];\n",
    "string lastComposer = composers[composers.Length - 1];\n",
    "\n",
    "Console.WriteLine(\"First composer: \" + firstComposer);\n",
    "Console.WriteLine(\"Last composer: \" + lastComposer);\n"
   ]
  },
  {
   "cell_type": "markdown",
   "id": "24b34064",
   "metadata": {},
   "source": [
    "# Question 3 C#\n",
    "\n",
    "Implement function triangleArea(a,b,c) that takes as input the lengths of the 3 \n",
    "sides of a triangle and returns the area of the triangle. By Heron's formula, the area \n",
    "of a triangle with side lengths a, b, and c is s(s − a)(s −b)(s −c), where\n",
    "s = (a + b + c)/2"
   ]
  },
  {
   "cell_type": "code",
   "execution_count": 13,
   "id": "901977b8",
   "metadata": {},
   "outputs": [],
   "source": [
    "using System;\n",
    "\n",
    "public class Program\n",
    "{\n",
    "    public static double TriangleArea(double a, double b, double c)\n",
    "    {\n",
    "        double s = (a + b + c) / 2;\n",
    "        double area = Math.Sqrt(s * (s - a) * (s - b) * (s - c));\n",
    "        return area;\n",
    "    }\n",
    "\n",
    "    public static void Main()\n",
    "    {\n",
    "        double area = TriangleArea(2, 2, 2);\n",
    "        Console.WriteLine(\"Area of the triangle: \" + area);\n",
    "    }\n",
    "}\n"
   ]
  },
  {
   "cell_type": "markdown",
   "id": "f6944c8a",
   "metadata": {},
   "source": [
    "# Question 4 C#\n",
    "\n",
    "Write a program in C# Sharp to separate odd and even integers in separate arrays. \n",
    "Go to the editor\n",
    "Test Data :\n",
    "Input the number of elements to be stored in the array :5 \n",
    "Input 5 elements in the array :\n",
    "element - 0 : 25\n",
    "element - 1 : 47\n",
    "element - 2 : 42\n",
    "element - 3 : 56\n",
    "element - 4 : 32 \n",
    "Expected Output:\n",
    "The Even elements are: \n",
    "42 56 32\n",
    "The Odd elements are : \n",
    "25 47"
   ]
  },
  {
   "cell_type": "code",
   "execution_count": 17,
   "id": "43ffff00",
   "metadata": {},
   "outputs": [],
   "source": [
    "using System;\n",
    "\n",
    "public class Program\n",
    "{\n",
    "    public static void Main()\n",
    "    {\n",
    "        Console.Write(\"Input the number of elements to be stored in the array: \");\n",
    "        int numElements = Convert.ToInt32(Console.ReadLine());\n",
    "\n",
    "        int[] numbers = new int[numElements];\n",
    "\n",
    "        Console.WriteLine(\"Input {0} elements in the array:\", numElements);\n",
    "        for (int i = 0; i < numElements; i++)\n",
    "        {\n",
    "            Console.Write(\"element - {0} : \", i);\n",
    "            numbers[i] = Convert.ToInt32(Console.ReadLine());\n",
    "        }\n",
    "\n",
    "        int[] evenNumbers = new int[numElements];\n",
    "        int evenCount = 0;\n",
    "\n",
    "        int[] oddNumbers = new int[numElements];\n",
    "        int oddCount = 0;\n",
    "\n",
    "        foreach (int num in numbers)\n",
    "        {\n",
    "            if (num % 2 == 0)\n",
    "            {\n",
    "                evenNumbers[evenCount] = num;\n",
    "                evenCount++;\n",
    "            }\n",
    "            else\n",
    "            {\n",
    "                oddNumbers[oddCount] = num;\n",
    "                oddCount++;\n",
    "            }\n",
    "        }\n",
    "\n",
    "        Console.WriteLine(\"The Even elements are:\");\n",
    "        for (int i = 0; i < evenCount; i++)\n",
    "        {\n",
    "            Console.Write(evenNumbers[i] + \" \");\n",
    "        }\n",
    "        Console.WriteLine();\n",
    "\n",
    "        Console.WriteLine(\"The Odd elements are:\");\n",
    "        for (int i = 0; i < oddCount; i++)\n",
    "        {\n",
    "            Console.Write(oddNumbers[i] + \" \");\n",
    "        }\n",
    "        Console.WriteLine();\n",
    "    }\n",
    "}\n"
   ]
  },
  {
   "cell_type": "markdown",
   "id": "a702b397",
   "metadata": {},
   "source": [
    "# Question 5 C#\n",
    "\n",
    "a. Write a function inside(x,y,x1,y1,x2,y2) that returns True or False \n",
    "dependingonwhetherthepoint(x,y)liesintherectanglewithlowerleft \n",
    "corner (x1,y1) and upper right corner (x2,y2).\n",
    ">>> inside(1,1,0,0,2,3)\n",
    "True\n",
    ">>> inside(-1,-1,0,0,2,3)\n",
    "False\n",
    "\n",
    "b. Use function inside()from part a. to write an expression that tests whether \n",
    "the point (1,1) lies in both of the following rectangles: one with lower left \n",
    "corner (0.3, 0.5) and upper right corner (1.1, 0.7) and the other with lower \n",
    "left corner (0.5, 0.2) and upper right corner (1.1, 2)."
   ]
  },
  {
   "cell_type": "code",
   "execution_count": 24,
   "id": "377c9eb5",
   "metadata": {},
   "outputs": [],
   "source": [
    "using System; \n",
    "\n",
    "public class Program\n",
    "{\n",
    "    public static bool Inside(double x, double y, double x1, double y1, double x2, double y2)\n",
    "    {\n",
    "        bool isInside = x >= x1 && x <= x2 && y >= y1 && y <= y2;\n",
    "        return isInside;\n",
    "    }\n",
    "\n",
    "    public static void Main()\n",
    "    {\n",
    "        double x = 1;\n",
    "        double y = 1;\n",
    "        double x1 = 0;\n",
    "        double y1 = 0;\n",
    "        double x2 = 2;\n",
    "        double y2 = 3;\n",
    "\n",
    "        bool isInsideRectangle = Inside(x, y, x1, y1, x2, y2);\n",
    "        Console.WriteLine(isInsideRectangle);\n",
    "    }\n",
    "}\n"
   ]
  },
  {
   "cell_type": "code",
   "execution_count": 25,
   "id": "383848f2",
   "metadata": {},
   "outputs": [],
   "source": [
    "using System;\n",
    "\n",
    "public class Program\n",
    "{\n",
    "    public static bool Inside(double x, double y, double x1, double y1, double x2, double y2)\n",
    "    {\n",
    "        bool isInside = x >= x1 && x <= x2 && y >= y1 && y <= y2;\n",
    "        return isInside;\n",
    "    }\n",
    "\n",
    "    public static void Main()\n",
    "    {\n",
    "        double x = 1;\n",
    "        double y = 1;\n",
    "        double rectangle1_x1 = 0.3;\n",
    "        double rectangle1_y1 = 0.5;\n",
    "        double rectangle1_x2 = 1.1;\n",
    "        double rectangle1_y2 = 0.7;\n",
    "\n",
    "        double rectangle2_x1 = 0.5;\n",
    "        double rectangle2_y1 = 0.2;\n",
    "        double rectangle2_x2 = 1.1;\n",
    "        double rectangle2_y2 = 2;\n",
    "\n",
    "        bool isInsideBothRectangles = Inside(x, y, rectangle1_x1, rectangle1_y1, rectangle1_x2, rectangle1_y2)\n",
    "            && Inside(x, y, rectangle2_x1, rectangle2_y1, rectangle2_x2, rectangle2_y2);\n",
    "\n",
    "        Console.WriteLine(isInsideBothRectangles);\n",
    "    }\n",
    "}\n"
   ]
  },
  {
   "cell_type": "code",
   "execution_count": null,
   "id": "7d1d0f56",
   "metadata": {},
   "outputs": [],
   "source": []
  }
 ],
 "metadata": {
  "kernelspec": {
   "display_name": ".NET (C#)",
   "language": "C#",
   "name": ".net-csharp"
  },
  "language_info": {
   "file_extension": ".cs",
   "mimetype": "text/x-csharp",
   "name": "C#",
   "pygments_lexer": "csharp",
   "version": "8.0"
  }
 },
 "nbformat": 4,
 "nbformat_minor": 5
}
