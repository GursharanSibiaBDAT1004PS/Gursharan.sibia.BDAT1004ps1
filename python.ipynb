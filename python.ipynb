{
 "cells": [
  {
   "cell_type": "markdown",
   "id": "09b1550d",
   "metadata": {},
   "source": [
    "# Question 6 Python\n",
    "\n",
    "You can turn a word into pig-Latin using the following two rules(simplified):\n",
    "• If the word starts with a consonant, move that letter to the end and append \n",
    "'ay'. For example, 'happy' becomes 'appyhay' and 'pencil' becomes 'encilpay'.\n",
    "• If the word starts with a vowel, simply append 'way' to the end of the word. \n",
    "For example, 'enter' becomes 'enterway' and 'other' becomes 'otherway' . For \n",
    "our purposes, there are 5 vowels: a, e, i, o, u (so we count y as a consonant).\n",
    "Write a function pig() that takes a word (i.e., a string) as input and returns its pig\u0002Latin form. Your function should still work if the input word contains upper case \n",
    "characters.\n"
   ]
  },
  {
   "cell_type": "code",
   "execution_count": 1,
   "id": "69bc8e63",
   "metadata": {},
   "outputs": [
    {
     "name": "stdout",
     "output_type": "stream",
     "text": [
      "appyhay\n",
      "encilpay\n",
      "enterway\n",
      "otherway\n"
     ]
    }
   ],
   "source": [
    "def pig(word):\n",
    "    vowels = ['a', 'e', 'i', 'o', 'u']\n",
    "    word = word.lower()\n",
    "    \n",
    "    if word[0] in vowels:\n",
    "        pig_latin = word + 'way'\n",
    "    else:\n",
    "        pig_latin = word[1:] + word[0] + 'ay'\n",
    "    \n",
    "    return pig_latin\n",
    "\n",
    "# Example usage\n",
    "print(pig('happy'))  \n",
    "print(pig('pencil'))\n",
    "print(pig('enter')) \n",
    "print(pig('other'))  \n"
   ]
  },
  {
   "cell_type": "markdown",
   "id": "d6a7699b",
   "metadata": {},
   "source": [
    "# Question 7 Python\n",
    "\n",
    "File bloodtype1.txt records blood-types of patients (A, B, AB, O or OO) at a clinic. \n",
    "Write a function bldcount() that reads the file with name name and reports (i.e., \n",
    "prints) how many patients there are in each bloodtype."
   ]
  },
  {
   "cell_type": "code",
   "execution_count": 3,
   "id": "0bbe39aa",
   "metadata": {},
   "outputs": [
    {
     "name": "stdout",
     "output_type": "stream",
     "text": [
      "Number of patients with blood type A: 1\n",
      "Number of patients with blood type B: 1\n",
      "Number of patients with blood type AB: 1\n",
      "Number of patients with blood type O: 1\n",
      "Number of patients with blood type OO: 1\n"
     ]
    }
   ],
   "source": [
    "def bldcount(name):\n",
    "    blood_types = ['A', 'B', 'AB', 'O', 'OO']\n",
    "    count = {}\n",
    "\n",
    "    try:\n",
    "        with open(name, 'r') as file:\n",
    "            for line in file:\n",
    "                blood_type = line.strip()\n",
    "                if blood_type in blood_types:\n",
    "                    count[blood_type] = count.get(blood_type, 0) + 1\n",
    "\n",
    "        for blood_type in blood_types:\n",
    "            if blood_type in count:\n",
    "                print(f\"Number of patients with blood type {blood_type}: {count[blood_type]}\")\n",
    "            else:\n",
    "                print(f\"Number of patients with blood type {blood_type}: 0\")\n",
    "\n",
    "    except FileNotFoundError:\n",
    "        print(f\"File '{name}' not found.\")\n",
    "\n",
    "# Example usage\n",
    "bldcount('bloodtype1.txt')\n"
   ]
  },
  {
   "cell_type": "markdown",
   "id": "87d0264c",
   "metadata": {},
   "source": [
    "# Question 8\n",
    "\n",
    "Write a function curconv() that takes as input:\n",
    "1. a currency represented using a string (e.g., 'JPY' for the Japanese Yen or \n",
    "'EUR' for the Euro)\n",
    "\n",
    "2. an amount and then converts and returns the amount in US dollars.\n"
   ]
  },
  {
   "cell_type": "code",
   "execution_count": 5,
   "id": "0f07a0be",
   "metadata": {},
   "outputs": [
    {
     "name": "stdout",
     "output_type": "stream",
     "text": [
      "Amount in USD: 12.41401\n"
     ]
    }
   ],
   "source": [
    "def curconv(currency, amount):\n",
    "    try:\n",
    "        with open('currencies.txt', 'r') as file:\n",
    "            for line in file:\n",
    "                parts = line.split()\n",
    "                if parts[0] == currency:\n",
    "                    conversion_rate = float(parts[1])\n",
    "                    return conversion_rate * amount\n",
    "\n",
    "        print(f\"Currency '{currency}' not found in the currency file.\")\n",
    "        return None\n",
    "\n",
    "    except FileNotFoundError:\n",
    "        print(\"Currency file not found.\")\n",
    "        return None\n",
    "\n",
    "# Example usage\n",
    "converted_amount = curconv('JPY', 1000)\n",
    "if converted_amount is not None:\n",
    "    print(f\"Amount in USD: {converted_amount}\")\n"
   ]
  },
  {
   "cell_type": "markdown",
   "id": "fdca11fa",
   "metadata": {},
   "source": [
    "# Question 9 Python\n",
    "Each of the following will cause an exception (an error). Identify what type of \n",
    "exception each will cause\n",
    "\n",
    "Trying to add incompatible variables, as in \n",
    "adding 6 + ‘a’\n",
    "Referring to the 12th item of a list that has only 10 \n",
    "items\n",
    "Using a value that is out ofrange for a function’s \n",
    "input, such as calling math.sqrt(-1.0)\n",
    "Using an undeclared variable, such as print(x)\n",
    "when x has not been defined\n",
    "Trying to open a file that does not exist, such as \n",
    "mistyping the file name or looking in the wrong \n",
    "directory.\n",
    "\n"
   ]
  },
  {
   "cell_type": "markdown",
   "id": "ccf54288",
   "metadata": {},
   "source": [
    "Trying to add incompatible variables, as in adding 6 + 'a':\n",
    "\n",
    "    This will raise a TypeError since you cannot perform addition between an integer and a string. The error message will indicate that unsupported operand types for addition are involved.\n",
    "\n",
    "Referring to the 12th item of a list that has only 10 items:\n",
    "\n",
    "    This will raise an IndexError since the index is out of range. The error message will indicate that the list index is out of range.\n",
    "\n",
    "Using a value that is out of range for a function's input, such as calling math.sqrt(-1.0):\n",
    "    This will raise a ValueError since the math.sqrt function expects a non-negative number as input. The error message will indicate that the math domain error occurred.\n",
    "\n",
    "Using an undeclared variable, such as print(x) when x has not been defined:\n",
    "This will raise a NameError since the variable x has not been defined or assigned a value. The error message will indicate that the name 'x' is not defined.\n",
    "\n",
    "Trying to open a file that does not exist, such as mistyping the file name or looking in the wrong directory:\n",
    "This will raise a FileNotFoundError since the file specified in the code does not exist in the given location. The error message will indicate that the file could not be found."
   ]
  },
  {
   "cell_type": "markdown",
   "id": "3dbcbf9f",
   "metadata": {},
   "source": [
    "# Question 10 Python \n",
    "\n",
    "Encryption is the process of hiding the meaning of a text by substituting letters in the \n",
    "message with other letters, according to some system. If the process is successful, no \n",
    "one but the intended recipient can understand the encrypted message. Cryptanalysis \n",
    "refers to attempts to undo the encryption, even if some details of the encryption are \n",
    "unknown (for example, if an encrypted message has been intercepted). The first step \n",
    "of cryptanalysis is often to build up a table of letter frequencies in the encrypted text. \n",
    "Assume that the string letters is already defined as \n",
    "'abcdefghijklmnopqrstuvwxyz'. Write a function called frequencies() \n",
    "that takes a string as its only parameter, and returns a list of integers, showing the \n",
    "number of times each character appears in the text. Your function may ignore any \n",
    "characters that are not in letters."
   ]
  },
  {
   "cell_type": "code",
   "execution_count": 9,
   "id": "ae40dc4c",
   "metadata": {},
   "outputs": [
    {
     "name": "stdout",
     "output_type": "stream",
     "text": [
      "[1, 1, 1, 3, 5, 1, 1, 2, 1, 0, 1, 0, 1, 2, 4, 0, 1, 2, 0, 3, 1, 0, 1, 1, 0, 0]\n"
     ]
    }
   ],
   "source": [
    "def frequencies(text):\n",
    "    letters = 'abcdefghijklmnopqrstuvwxyz'\n",
    "    counts = [0] * len(letters)\n",
    "\n",
    "    for char in text:\n",
    "        if char.lower() in letters:\n",
    "            index = letters.index(char.lower())\n",
    "            counts[index] += 1\n",
    "\n",
    "    return counts\n",
    "\n",
    "# Example usage\n",
    "text = 'The quick red fox got bored and went home.'\n",
    "result = frequencies(text)\n",
    "print(result)  # Output: [0, 0, 0, 0, 0, 0, 0, 0, 0, 0, 0, 0, 3, 0, 0, 0, 0, 0, 0, 0, 0, 0, 0, 0, 0, 0]\n"
   ]
  },
  {
   "cell_type": "code",
   "execution_count": null,
   "id": "2cb9e5f3",
   "metadata": {},
   "outputs": [],
   "source": []
  }
 ],
 "metadata": {
  "kernelspec": {
   "display_name": "Python 3 (ipykernel)",
   "language": "python",
   "name": "python3"
  },
  "language_info": {
   "codemirror_mode": {
    "name": "ipython",
    "version": 3
   },
   "file_extension": ".py",
   "mimetype": "text/x-python",
   "name": "python",
   "nbconvert_exporter": "python",
   "pygments_lexer": "ipython3",
   "version": "3.10.9"
  }
 },
 "nbformat": 4,
 "nbformat_minor": 5
}
